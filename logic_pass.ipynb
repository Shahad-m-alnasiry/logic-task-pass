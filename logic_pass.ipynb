{
  "nbformat": 4,
  "nbformat_minor": 0,
  "metadata": {
    "colab": {
      "name": "logic-pass.ipynb",
      "provenance": [],
      "collapsed_sections": []
    },
    "kernelspec": {
      "name": "python3",
      "display_name": "Python 3"
    },
    "language_info": {
      "name": "python"
    }
  },
  "cells": [
    {
      "cell_type": "markdown",
      "source": [
        "Q1"
      ],
      "metadata": {
        "id": "hOk7embdHmXg"
      }
    },
    {
      "cell_type": "code",
      "source": [
        "the_str=input(\"Enter a string : \")\n",
        "the_letter=input(\"Enter the letter : \")\n",
        "\n",
        "for char in the_str:\n",
        "  if char == the_letter:\n",
        "    e=the_str.index(the_letter)\n",
        "    the_str= the_str[0:e]+the_str[e+1:]\n",
        "   \n",
        "print(the_str)"
      ],
      "metadata": {
        "colab": {
          "base_uri": "https://localhost:8080/"
        },
        "id": "3fbHSo7qHo_w",
        "outputId": "36abc060-24be-4668-a2da-1397e0027a69"
      },
      "execution_count": 11,
      "outputs": [
        {
          "output_type": "stream",
          "name": "stdout",
          "text": [
            "Enter a string : shahad mustafa\n",
            "Enter the letter : a\n",
            "shhd mustf\n"
          ]
        }
      ]
    },
    {
      "cell_type": "markdown",
      "source": [
        "Q2\n"
      ],
      "metadata": {
        "id": "KERdWp1yHhKC"
      }
    },
    {
      "cell_type": "code",
      "execution_count": 13,
      "metadata": {
        "colab": {
          "base_uri": "https://localhost:8080/"
        },
        "id": "wS_m0E5VHVye",
        "outputId": "98eab118-7785-4f53-d509-3703fcfd0965"
      },
      "outputs": [
        {
          "output_type": "stream",
          "name": "stdout",
          "text": [
            "enter the first number : 0\n",
            "enter the seond number : 22\n",
            "2\n",
            "3\n",
            "5\n",
            "7\n",
            "11\n",
            "13\n",
            "17\n",
            "19\n"
          ]
        }
      ],
      "source": [
        "import numpy as np\n",
        "\n",
        "num1=int(input(\"enter the first number : \"))\n",
        "num2=int(input(\"enter the seond number : \"))\n",
        "\n",
        "my_list= np.arange(num1,(num2+1))\n",
        "\n",
        "for num in my_list:\n",
        "  count=0\n",
        "  for item in np.arange(1,(num+1)):\n",
        "    if(num%item==0):\n",
        "      count+=1\n",
        "  if(count==2):\n",
        "    print(num)"
      ]
    },
    {
      "cell_type": "markdown",
      "source": [
        "Q3"
      ],
      "metadata": {
        "id": "v0poRjVuH0Tm"
      }
    },
    {
      "cell_type": "code",
      "source": [
        "input_str = input(\"Enter the string : \")\n",
        "input_char = input(\"Enter the char : \")\n",
        "\n",
        "\n",
        "def my_function(my_str , my_char):\n",
        "  count=0\n",
        "  for char in my_str:\n",
        "    if char == my_char:\n",
        "      count=count+1\n",
        "  print(count)\n",
        "\n",
        "my_function(input_str,input_char)\n"
      ],
      "metadata": {
        "colab": {
          "base_uri": "https://localhost:8080/"
        },
        "id": "MCFmBLS9H2Yw",
        "outputId": "6b5dc029-53a6-4c09-8db1-67bbbdafc820"
      },
      "execution_count": 14,
      "outputs": [
        {
          "output_type": "stream",
          "name": "stdout",
          "text": [
            "Enter the string : good morning\n",
            "Enter the char : o\n",
            "3\n"
          ]
        }
      ]
    }
  ]
}